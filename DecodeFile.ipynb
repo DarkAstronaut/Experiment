{
  "nbformat": 4,
  "nbformat_minor": 0,
  "metadata": {
    "colab": {
      "provenance": [],
      "authorship_tag": "ABX9TyMadYSzhf2u2znOG8NRoS0e",
      "include_colab_link": true
    },
    "kernelspec": {
      "name": "python3",
      "display_name": "Python 3"
    },
    "language_info": {
      "name": "python"
    }
  },
  "cells": [
    {
      "cell_type": "markdown",
      "metadata": {
        "id": "view-in-github",
        "colab_type": "text"
      },
      "source": [
        "<a href=\"https://colab.research.google.com/github/DarkAstronaut/Experiment/blob/main/DecodeFile.ipynb\" target=\"_parent\"><img src=\"https://colab.research.google.com/assets/colab-badge.svg\" alt=\"Open In Colab\"/></a>"
      ]
    },
    {
      "cell_type": "code",
      "source": [
        "file = open(\"/content/coding_qual_input.txt\")\n",
        "\n",
        "numList = []\n",
        "line2 = []\n",
        "while True:\n",
        "  line = file.readline()\n",
        "  if not line:\n",
        "    break\n",
        "  else:\n",
        "    line2.append(line.split())\n",
        "    numList.append(int(line.split()[0]))\n",
        "#print(numList)\n",
        "#print(line2)\n",
        "codeList = []\n",
        "i = 1\n",
        "j = 0\n",
        "while j < max(numList):\n",
        "  j = j + i\n",
        "  codeList.append(j)\n",
        "  i = i + 1\n",
        "#print(codeList) // Working\n",
        "for l in line2:\n",
        "  l[0] = int(l[0])\n",
        "  #print(l)\n",
        "#print(sorted(line2))\n",
        "line3 = sorted(line2)\n",
        "c = 0\n",
        "finalString = \"\"\n",
        "for l in line3:\n",
        "  if l[0] == codeList[c]:\n",
        "    finalString = finalString + l[1]\n",
        "    c+=1\n",
        "print(finalString)"
      ],
      "metadata": {
        "colab": {
          "base_uri": "https://localhost:8080/"
        },
        "id": "jWZPjeCrlAaR",
        "outputId": "5252e23d-7cb8-463e-a74f-18f236ba22c7"
      },
      "execution_count": 66,
      "outputs": [
        {
          "output_type": "stream",
          "name": "stdout",
          "text": [
            "downdontninelotworksilvereastduckdonetonebitstopsundealhugemomentpoemholdmakelikepossibleclockofbought\n"
          ]
        }
      ]
    },
    {
      "cell_type": "code",
      "source": [
        "file = open(\"/content/coding_qual_input.txt\")\n",
        "\n",
        "def decode(message_file):\n",
        "  line2 = []\n",
        "  while True:\n",
        "    line = message_file.readline() #Getting Lines from File\n",
        "    if not line:\n",
        "      break\n",
        "    else:\n",
        "      line2.append(line.split()) #Storing the Lines\n",
        "  #print(line2)\n",
        "  codeList = [] # Creating a list to get only the last elements of Pyramid\n",
        "  i = 1\n",
        "  j = 0\n",
        "  while j < len(line2):\n",
        "    j = j + i\n",
        "    codeList.append(j)\n",
        "    i = i + 1\n",
        "  #print(codeList) // Working\n",
        "  for l in line2: #Converting the String to Numeric for the Number part of Lines\n",
        "    l[0] = int(l[0])\n",
        "    #print(l)\n",
        "  line2 = sorted(line2) # Sorting the Lines with Number\n",
        "  c = 0\n",
        "  finalString = \"\" # For the Final Decoded Message\n",
        "  for l in line2:\n",
        "    if l[0] == codeList[c]:\n",
        "      finalString = finalString + \" \" + l[1]\n",
        "      c+=1\n",
        "  return finalString\n",
        "\n",
        "decode(file)"
      ],
      "metadata": {
        "colab": {
          "base_uri": "https://localhost:8080/",
          "height": 35
        },
        "id": "73vg2HzH2WkI",
        "outputId": "fcfda970-2610-47c2-c0d0-b348c0ca5cc3"
      },
      "execution_count": 65,
      "outputs": [
        {
          "output_type": "execute_result",
          "data": {
            "text/plain": [
              "' down dont nine lot work silver east duck done tone bit stop sun deal huge moment poem hold make like possible clock of bought'"
            ],
            "application/vnd.google.colaboratory.intrinsic+json": {
              "type": "string"
            }
          },
          "metadata": {},
          "execution_count": 65
        }
      ]
    },
    {
      "cell_type": "code",
      "source": [
        "file = open(\"/content/coding_qual_input.txt\")\n",
        "\n",
        "def decode(message_file):\n",
        "  FileContent = []\n",
        "  while True:\n",
        "    line = message_file.readline() #Getting Lines from File\n",
        "    if not line:\n",
        "      break\n",
        "    else:\n",
        "      FileContent.append(line.split()) #Storing the Lines\n",
        "  #print(FileContent)\n",
        "  for line in FileContent: #Converting the String to Numeric for the Number part of Lines\n",
        "    line[0] = int(line[0])\n",
        "    #print(line)\n",
        "\n",
        "  FileContent = sorted(FileContent) # Sorting the Lines with Number\n",
        "  i = 1\n",
        "  j = 0\n",
        "  c = 0\n",
        "  codeList = []\n",
        "  while j < len(FileContent):\n",
        "    j = j + i\n",
        "    i = i + 1\n",
        "    codeList.append(j)\n",
        "  finalString = \"\" # For the Final Decoded Message\n",
        "  for line in FileContent:\n",
        "    if line[0] == codeList[c]:\n",
        "      finalString = finalString + \" \" + line[1]\n",
        "      c+=1\n",
        "  return finalString\n",
        "\n",
        "decode(file)"
      ],
      "metadata": {
        "colab": {
          "base_uri": "https://localhost:8080/",
          "height": 35
        },
        "id": "EKQVAX98I3h8",
        "outputId": "6b8913e3-5e7b-435d-da53-8fb4e3750806"
      },
      "execution_count": 69,
      "outputs": [
        {
          "output_type": "execute_result",
          "data": {
            "text/plain": [
              "' down dont nine lot work silver east duck done tone bit stop sun deal huge moment poem hold make like possible clock of bought'"
            ],
            "application/vnd.google.colaboratory.intrinsic+json": {
              "type": "string"
            }
          },
          "metadata": {},
          "execution_count": 69
        }
      ]
    }
  ]
}